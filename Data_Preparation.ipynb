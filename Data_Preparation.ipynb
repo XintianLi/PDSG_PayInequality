{
 "cells": [
  {
   "cell_type": "code",
   "execution_count": 4,
   "metadata": {
    "Collapsed": "false"
   },
   "outputs": [],
   "source": [
    "import pandas as pd\n",
    "import numpy as np"
   ]
  },
  {
   "cell_type": "code",
   "execution_count": 34,
   "metadata": {
    "Collapsed": "false"
   },
   "outputs": [],
   "source": [
    "import pandas as pd\n",
    "import numpy as np\n",
    "import os\n",
    "from tqdm import tqdm\n",
    "\n",
    "pd.set_option('max.columns',60)\n",
    "\n",
    "\n",
    "dataFolder = 'paynet_data'"
   ]
  },
  {
   "cell_type": "code",
   "execution_count": 6,
   "metadata": {
    "Collapsed": "false"
   },
   "outputs": [],
   "source": [
    "def getUniqueList(var, debug = True):\n",
    "\n",
    "    fileList =os.listdir(dataFolder)\n",
    "    fileList = sorted(fileList, key = lambda x : int(x.split(\"_\")[-1].split(\".\")[0])   )\n",
    "\n",
    "    uniqueList = set([])\n",
    "\n",
    "    for i in range(len(fileList)):\n",
    "\n",
    "        print(f\"Reading {fileList[i]}\")\n",
    "        df = pd.read_csv(os.path.join(dataFolder, fileList[i]), usecols=[var])\n",
    "\n",
    "        uniqueList = set(list(uniqueList) + list(df[var].unique()))\n",
    "        uniqueList = [x for x in uniqueList if pd.isna(x)==False]\n",
    "        if debug == True:\n",
    "            print(f\"Number of unique elements : {len(uniqueList)}\")\n",
    "        \n",
    "    return uniqueList\n",
    "    \n",
    "    \n",
    "    "
   ]
  },
  {
   "cell_type": "markdown",
   "metadata": {
    "Collapsed": "false"
   },
   "source": [
    "### Creating RegionMapping"
   ]
  },
  {
   "cell_type": "code",
   "execution_count": 48,
   "metadata": {
    "Collapsed": "false"
   },
   "outputs": [],
   "source": [
    "# out = getUniqueList('RegionName', debug = False)\n",
    "\n",
    "# regionMapping = {}\n",
    "\n",
    "# index = 0\n",
    "\n",
    "# for i in range(len(out)):\n",
    "    \n",
    "#     if out[i] in ['Undefined', 'Unclassified']:\n",
    "#         continue\n",
    "    \n",
    "#     regionMapping[out[i]] = index\n",
    "#     index += 1\n",
    "\n",
    "    \n",
    "# df = pd.DataFrame({\"RegionName\":list(regionMapping.keys()), \"RegionNo\":list(regionMapping.values())} )\n",
    "\n",
    "# temp = pd.DataFrame({\"RegionName\":['Undefined','Unclassified'], \"RegionNo\":[np.NaN, np.NaN]})\n",
    "\n",
    "# df = df.append(temp)\n",
    "\n",
    "# df.to_csv(\"RegionName_Mapping.csv\",index= False, index_label =False)"
   ]
  },
  {
   "cell_type": "code",
   "execution_count": 51,
   "metadata": {
    "Collapsed": "false"
   },
   "outputs": [],
   "source": [
    "regionMap = pd.read_csv(\"RegionName_Mapping.csv\")\n",
    "\n",
    "\n",
    "\n",
    "regionMapping = {}\n",
    "\n",
    "for i in range(len(regionMap)):\n",
    "    data = regionMap.iloc[i]\n",
    "    \n",
    "    regionMapping[data.RegionName]  = data.RegionNo"
   ]
  },
  {
   "cell_type": "code",
   "execution_count": 52,
   "metadata": {
    "Collapsed": "false",
    "scrolled": true
   },
   "outputs": [
    {
     "data": {
      "text/plain": [
       "{'Idaho (West)': 0.0,\n",
       " 'Tennessee (South)': 1.0,\n",
       " 'Iowa (Midwest)': 2.0,\n",
       " 'Vermont (Northeast)': 3.0,\n",
       " 'Indiana (Midwest)': 4.0,\n",
       " 'Ohio (Midwest)': 5.0,\n",
       " 'Illinois, Excl. Metro Chicago (Midwest)': 6.0,\n",
       " 'Massachusetts (Northeast)': 7.0,\n",
       " 'West Virginia (South)': 8.0,\n",
       " 'Texas, Ship Channel (South)': 9.0,\n",
       " 'Montana (West)': 10.0,\n",
       " 'Texas, Metro Houston (South)': 11.0,\n",
       " 'Louisiana (South)': 12.0,\n",
       " 'Georgia (South)': 13.0,\n",
       " 'Alaska (West)': 14.0,\n",
       " 'California (West)': 15.0,\n",
       " 'New Jersey, Excl. Metro NY (Northeast)': 16.0,\n",
       " 'Missouri (Midwest)': 17.0,\n",
       " 'Maine (Northeast)': 18.0,\n",
       " 'New Mexico (West)': 19.0,\n",
       " 'Connecticut, Excl. Metro NY (Northeast)': 20.0,\n",
       " 'Oregon (West)': 21.0,\n",
       " 'Nebraska (Midwest)': 22.0,\n",
       " 'Wyoming (West)': 23.0,\n",
       " 'Colorado (West)': 24.0,\n",
       " 'North Dakota (Midwest)': 25.0,\n",
       " 'Alabama (South)': 26.0,\n",
       " 'South Dakota (Midwest)': 27.0,\n",
       " 'Arkansas (South)': 28.0,\n",
       " 'Northern California (West)': 29.0,\n",
       " 'Rhode Island (Northeast)': 30.0,\n",
       " 'Arizona (West)': 31.0,\n",
       " 'New York, Excl. Metro NY (Northeast)': 32.0,\n",
       " 'Washington (West)': 33.0,\n",
       " 'Nevada (West)': 34.0,\n",
       " 'Hawaii (West)': 35.0,\n",
       " 'Michigan (Midwest)': 36.0,\n",
       " 'Minnesota (Midwest)': 37.0,\n",
       " 'District of Columbia (South)': 38.0,\n",
       " 'North Carolina (South)': 39.0,\n",
       " 'Virginia (South)': 40.0,\n",
       " 'Delaware (Northeast)': 41.0,\n",
       " 'Chicago Metro Area (Midwest)': 42.0,\n",
       " 'Kansas (Midwest)': 43.0,\n",
       " 'Texas, Metro Dallas (South)': 44.0,\n",
       " 'Florida (South)': 45.0,\n",
       " 'Pennsylvania (Northeast)': 46.0,\n",
       " 'New Hampshire (Northeast)': 47.0,\n",
       " 'Oklahoma (South)': 48.0,\n",
       " 'South Carolina (South)': 49.0,\n",
       " 'Southern California (West)': 50.0,\n",
       " 'New York Metro Area (Northeast)': 51.0,\n",
       " 'Utah (West)': 52.0,\n",
       " 'Puerto Rico (Other)': 53.0,\n",
       " 'Indiana, Excl. Metro Chicago (Midwest)': 54.0,\n",
       " 'Kentucky (South)': 55.0,\n",
       " 'Maryland (South)': 56.0,\n",
       " 'Mississippi (South)': 57.0,\n",
       " 'Texas, Excl. Metros (South)': 58.0,\n",
       " 'Wisconsin, Excl. Metro Chicago (Midwest)': 59.0,\n",
       " 'Undefined': nan,\n",
       " 'Unclassified': nan}"
      ]
     },
     "execution_count": 52,
     "metadata": {},
     "output_type": "execute_result"
    }
   ],
   "source": [
    "regionMapping"
   ]
  },
  {
   "cell_type": "markdown",
   "metadata": {
    "Collapsed": "false"
   },
   "source": [
    "### OwnerMap"
   ]
  },
  {
   "cell_type": "code",
   "execution_count": 3,
   "metadata": {
    "Collapsed": "false"
   },
   "outputs": [],
   "source": [
    "ownerMap = {'Foreign Ownership':0, 'Foreign Owned':0,\n",
    "            'Domestic U.S. Ownership':1, 'Domestically Owned':1,\n",
    "            'Government':2}\n"
   ]
  },
  {
   "cell_type": "markdown",
   "metadata": {
    "Collapsed": "false"
   },
   "source": [
    "### Number of Employees"
   ]
  },
  {
   "cell_type": "code",
   "execution_count": 12,
   "metadata": {
    "Collapsed": "false"
   },
   "outputs": [],
   "source": [
    "NumEmpMap = {'0 - 250 Employees':1,\n",
    "'1 - 250 Employees':1,\n",
    "'251 - 500 Employees':2,\n",
    "'501 - 1000 Employees':3,\n",
    "'1001 - 2500 Employees':4, \n",
    "'2501 - 5000 Employees':5, \n",
    "'5001 - 10000 Employees':6,\n",
    "'10001 - 25000 Employees':7,\n",
    "'25001 or More Employees':8, \n",
    "'Undefined':np.NaN}\n"
   ]
  },
  {
   "cell_type": "markdown",
   "metadata": {
    "Collapsed": "false"
   },
   "source": [
    "## Data Preparation"
   ]
  },
  {
   "cell_type": "code",
   "execution_count": 59,
   "metadata": {
    "Collapsed": "false"
   },
   "outputs": [],
   "source": [
    "keepCols = ['KF_ID','CalendarYear','RegionName','OwnershipTypeDesc','NumOfEmpDesc', 'IndustryName',\n",
    "            'IndustrySectorName','IndustrySegmentName',\n",
    "            'JobName','ReferenceLevelNum','IncumbentPointCount',\n",
    "            'Base Salary', 'Benefit Values',\n",
    "            'Fixed Annual Remuneration', 'Long Term Incentive Values',\n",
    "            'Short Term Variable Payments','Target Incentive Payment (%)','Total Annual Remuneration',\n",
    "            'Total Cash','Total Direct Compensation','Total Remuneration Plus','Total Earnings']"
   ]
  },
  {
   "cell_type": "code",
   "execution_count": 60,
   "metadata": {
    "Collapsed": "false"
   },
   "outputs": [],
   "source": [
    "fileList = sorted(os.listdir(dataFolder))\n"
   ]
  },
  {
   "cell_type": "code",
   "execution_count": 61,
   "metadata": {
    "Collapsed": "false"
   },
   "outputs": [],
   "source": [
    "outputFolder = './reduced_paynet_data/'\n"
   ]
  },
  {
   "cell_type": "code",
   "execution_count": 62,
   "metadata": {
    "Collapsed": "false"
   },
   "outputs": [
    {
     "name": "stderr",
     "output_type": "stream",
     "text": [
      "\n",
      "\n",
      "  0%|          | 0/29 [00:00<?, ?it/s]\u001b[A\u001b[A"
     ]
    },
    {
     "name": "stdout",
     "output_type": "stream",
     "text": [
      "paynet_data_deidentified_1.csv\n"
     ]
    },
    {
     "name": "stderr",
     "output_type": "stream",
     "text": [
      "\n",
      "\n",
      "  3%|▎         | 1/29 [00:19<09:11, 19.69s/it]\u001b[A\u001b[A"
     ]
    },
    {
     "name": "stdout",
     "output_type": "stream",
     "text": [
      "paynet_data_deidentified_10.csv\n"
     ]
    },
    {
     "name": "stderr",
     "output_type": "stream",
     "text": [
      "/Users/roshansk/opt/anaconda3/lib/python3.7/site-packages/IPython/core/interactiveshell.py:3058: DtypeWarning: Columns (6,7) have mixed types. Specify dtype option on import or set low_memory=False.\n",
      "  interactivity=interactivity, compiler=compiler, result=result)\n",
      "\n",
      "\n",
      "  7%|▋         | 2/29 [00:35<08:23, 18.63s/it]\u001b[A\u001b[A"
     ]
    },
    {
     "name": "stdout",
     "output_type": "stream",
     "text": [
      "paynet_data_deidentified_11.csv\n"
     ]
    },
    {
     "name": "stderr",
     "output_type": "stream",
     "text": [
      "\n",
      "\n",
      " 10%|█         | 3/29 [00:52<07:47, 17.96s/it]\u001b[A\u001b[A"
     ]
    },
    {
     "name": "stdout",
     "output_type": "stream",
     "text": [
      "paynet_data_deidentified_12.csv\n"
     ]
    },
    {
     "name": "stderr",
     "output_type": "stream",
     "text": [
      "/Users/roshansk/opt/anaconda3/lib/python3.7/site-packages/IPython/core/interactiveshell.py:3058: DtypeWarning: Columns (5,6,7) have mixed types. Specify dtype option on import or set low_memory=False.\n",
      "  interactivity=interactivity, compiler=compiler, result=result)\n",
      "\n",
      "\n",
      " 14%|█▍        | 4/29 [01:08<07:17, 17.48s/it]\u001b[A\u001b[A"
     ]
    },
    {
     "name": "stdout",
     "output_type": "stream",
     "text": [
      "paynet_data_deidentified_13.csv\n"
     ]
    },
    {
     "name": "stderr",
     "output_type": "stream",
     "text": [
      "\n",
      "\n",
      " 17%|█▋        | 5/29 [01:26<07:01, 17.55s/it]\u001b[A\u001b[A"
     ]
    },
    {
     "name": "stdout",
     "output_type": "stream",
     "text": [
      "paynet_data_deidentified_14.csv\n"
     ]
    },
    {
     "name": "stderr",
     "output_type": "stream",
     "text": [
      "\n",
      "\n",
      " 21%|██        | 6/29 [01:43<06:41, 17.47s/it]\u001b[A\u001b[A"
     ]
    },
    {
     "name": "stdout",
     "output_type": "stream",
     "text": [
      "paynet_data_deidentified_15.csv\n"
     ]
    },
    {
     "name": "stderr",
     "output_type": "stream",
     "text": [
      "\n",
      "\n",
      " 24%|██▍       | 7/29 [02:00<06:21, 17.35s/it]\u001b[A\u001b[A"
     ]
    },
    {
     "name": "stdout",
     "output_type": "stream",
     "text": [
      "paynet_data_deidentified_16.csv\n"
     ]
    },
    {
     "name": "stderr",
     "output_type": "stream",
     "text": [
      "\n",
      "\n",
      " 28%|██▊       | 8/29 [02:17<06:00, 17.16s/it]\u001b[A\u001b[A"
     ]
    },
    {
     "name": "stdout",
     "output_type": "stream",
     "text": [
      "paynet_data_deidentified_17.csv\n"
     ]
    },
    {
     "name": "stderr",
     "output_type": "stream",
     "text": [
      "\n",
      "\n",
      " 31%|███       | 9/29 [02:28<05:05, 15.26s/it]\u001b[A\u001b[A"
     ]
    },
    {
     "name": "stdout",
     "output_type": "stream",
     "text": [
      "paynet_data_deidentified_18.csv\n"
     ]
    },
    {
     "name": "stderr",
     "output_type": "stream",
     "text": [
      "\n",
      "\n",
      " 34%|███▍      | 10/29 [02:46<05:07, 16.16s/it]\u001b[A\u001b[A"
     ]
    },
    {
     "name": "stdout",
     "output_type": "stream",
     "text": [
      "paynet_data_deidentified_19.csv\n"
     ]
    },
    {
     "name": "stderr",
     "output_type": "stream",
     "text": [
      "\n",
      "\n",
      " 38%|███▊      | 11/29 [03:04<05:02, 16.79s/it]\u001b[A\u001b[A"
     ]
    },
    {
     "name": "stdout",
     "output_type": "stream",
     "text": [
      "paynet_data_deidentified_2.csv\n"
     ]
    },
    {
     "name": "stderr",
     "output_type": "stream",
     "text": [
      "\n",
      "\n",
      " 41%|████▏     | 12/29 [03:23<04:57, 17.52s/it]\u001b[A\u001b[A"
     ]
    },
    {
     "name": "stdout",
     "output_type": "stream",
     "text": [
      "paynet_data_deidentified_20.csv\n"
     ]
    },
    {
     "name": "stderr",
     "output_type": "stream",
     "text": [
      "\n",
      "\n",
      " 45%|████▍     | 13/29 [03:42<04:43, 17.74s/it]\u001b[A\u001b[A"
     ]
    },
    {
     "name": "stdout",
     "output_type": "stream",
     "text": [
      "paynet_data_deidentified_21.csv\n"
     ]
    },
    {
     "name": "stderr",
     "output_type": "stream",
     "text": [
      "\n",
      "\n",
      " 48%|████▊     | 14/29 [04:01<04:32, 18.13s/it]\u001b[A\u001b[A"
     ]
    },
    {
     "name": "stdout",
     "output_type": "stream",
     "text": [
      "paynet_data_deidentified_22.csv\n"
     ]
    },
    {
     "name": "stderr",
     "output_type": "stream",
     "text": [
      "\n",
      "\n",
      " 52%|█████▏    | 15/29 [04:20<04:17, 18.42s/it]\u001b[A\u001b[A"
     ]
    },
    {
     "name": "stdout",
     "output_type": "stream",
     "text": [
      "paynet_data_deidentified_23.csv\n"
     ]
    },
    {
     "name": "stderr",
     "output_type": "stream",
     "text": [
      "\n",
      "\n",
      " 55%|█████▌    | 16/29 [04:39<04:00, 18.49s/it]\u001b[A\u001b[A"
     ]
    },
    {
     "name": "stdout",
     "output_type": "stream",
     "text": [
      "paynet_data_deidentified_24.csv\n"
     ]
    },
    {
     "name": "stderr",
     "output_type": "stream",
     "text": [
      "\n",
      "\n",
      " 59%|█████▊    | 17/29 [04:57<03:43, 18.59s/it]\u001b[A\u001b[A"
     ]
    },
    {
     "name": "stdout",
     "output_type": "stream",
     "text": [
      "paynet_data_deidentified_25.csv\n"
     ]
    },
    {
     "name": "stderr",
     "output_type": "stream",
     "text": [
      "\n",
      "\n",
      " 62%|██████▏   | 18/29 [05:16<03:23, 18.50s/it]\u001b[A\u001b[A"
     ]
    },
    {
     "name": "stdout",
     "output_type": "stream",
     "text": [
      "paynet_data_deidentified_26.csv\n"
     ]
    },
    {
     "name": "stderr",
     "output_type": "stream",
     "text": [
      "\n",
      "\n",
      " 66%|██████▌   | 19/29 [05:34<03:04, 18.47s/it]\u001b[A\u001b[A"
     ]
    },
    {
     "name": "stdout",
     "output_type": "stream",
     "text": [
      "paynet_data_deidentified_27.csv\n"
     ]
    },
    {
     "name": "stderr",
     "output_type": "stream",
     "text": [
      "\n",
      "\n",
      " 69%|██████▉   | 20/29 [05:53<02:47, 18.59s/it]\u001b[A\u001b[A"
     ]
    },
    {
     "name": "stdout",
     "output_type": "stream",
     "text": [
      "paynet_data_deidentified_28.csv\n"
     ]
    },
    {
     "name": "stderr",
     "output_type": "stream",
     "text": [
      "\n",
      "\n",
      " 72%|███████▏  | 21/29 [06:11<02:28, 18.52s/it]\u001b[A\u001b[A"
     ]
    },
    {
     "name": "stdout",
     "output_type": "stream",
     "text": [
      "paynet_data_deidentified_29.csv\n"
     ]
    },
    {
     "name": "stderr",
     "output_type": "stream",
     "text": [
      "\n",
      "\n",
      " 76%|███████▌  | 22/29 [06:25<01:59, 17.11s/it]\u001b[A\u001b[A"
     ]
    },
    {
     "name": "stdout",
     "output_type": "stream",
     "text": [
      "paynet_data_deidentified_3.csv\n"
     ]
    },
    {
     "name": "stderr",
     "output_type": "stream",
     "text": [
      "\n",
      "\n",
      " 79%|███████▉  | 23/29 [06:44<01:46, 17.75s/it]\u001b[A\u001b[A"
     ]
    },
    {
     "name": "stdout",
     "output_type": "stream",
     "text": [
      "paynet_data_deidentified_4.csv\n"
     ]
    },
    {
     "name": "stderr",
     "output_type": "stream",
     "text": [
      "/Users/roshansk/opt/anaconda3/lib/python3.7/site-packages/IPython/core/interactiveshell.py:3058: DtypeWarning: Columns (6,7,9,10) have mixed types. Specify dtype option on import or set low_memory=False.\n",
      "  interactivity=interactivity, compiler=compiler, result=result)\n",
      "\n",
      "\n",
      " 83%|████████▎ | 24/29 [07:02<01:29, 17.84s/it]\u001b[A\u001b[A"
     ]
    },
    {
     "name": "stdout",
     "output_type": "stream",
     "text": [
      "paynet_data_deidentified_5.csv\n"
     ]
    },
    {
     "name": "stderr",
     "output_type": "stream",
     "text": [
      "\n",
      "\n",
      " 86%|████████▌ | 25/29 [07:20<01:10, 17.72s/it]\u001b[A\u001b[A"
     ]
    },
    {
     "name": "stdout",
     "output_type": "stream",
     "text": [
      "paynet_data_deidentified_6.csv\n"
     ]
    },
    {
     "name": "stderr",
     "output_type": "stream",
     "text": [
      "\n",
      "\n",
      " 90%|████████▉ | 26/29 [07:37<00:52, 17.57s/it]\u001b[A\u001b[A"
     ]
    },
    {
     "name": "stdout",
     "output_type": "stream",
     "text": [
      "paynet_data_deidentified_7.csv\n"
     ]
    },
    {
     "name": "stderr",
     "output_type": "stream",
     "text": [
      "\n",
      "\n",
      " 93%|█████████▎| 27/29 [07:54<00:34, 17.40s/it]\u001b[A\u001b[A"
     ]
    },
    {
     "name": "stdout",
     "output_type": "stream",
     "text": [
      "paynet_data_deidentified_8.csv\n"
     ]
    },
    {
     "name": "stderr",
     "output_type": "stream",
     "text": [
      "\n",
      "\n",
      " 97%|█████████▋| 28/29 [08:12<00:17, 17.46s/it]\u001b[A\u001b[A"
     ]
    },
    {
     "name": "stdout",
     "output_type": "stream",
     "text": [
      "paynet_data_deidentified_9.csv\n"
     ]
    },
    {
     "name": "stderr",
     "output_type": "stream",
     "text": [
      "\n",
      "\n",
      "100%|██████████| 29/29 [08:28<00:00, 17.53s/it]\u001b[A\u001b[A\n"
     ]
    }
   ],
   "source": [
    "for i in tqdm(range(len(fileList))):\n",
    "    \n",
    "    print(fileList[i])\n",
    "    \n",
    "    if os.path.exists(os.path.join(outputFolder, fileList[i])):\n",
    "        continue\n",
    "    \n",
    "    df = pd.read_csv(os.path.join(dataFolder, fileList[i]), usecols=keepCols)\n",
    "    \n",
    "    df.OwnershipTypeDesc= df.OwnershipTypeDesc.apply(lambda x : ownerMap[x] if pd.isna(x) ==False else x)\n",
    "    df.NumOfEmpDesc = df.NumOfEmpDesc.apply(lambda x : NumEmpMap[x] if pd.isna(x) ==False else x) \n",
    "    df.RegionName = df.RegionName.apply(lambda x : regionMapping[x] if pd.isna(x) ==False else x)\n",
    "    \n",
    "    \n",
    "    df.to_csv(os.path.join(outputFolder, fileList[i]),index =False, index_label = False)\n",
    "    \n",
    "    \n",
    "    \n",
    "    \n"
   ]
  },
  {
   "cell_type": "code",
   "execution_count": 29,
   "metadata": {
    "Collapsed": "false"
   },
   "outputs": [],
   "source": []
  },
  {
   "cell_type": "code",
   "execution_count": null,
   "metadata": {
    "Collapsed": "false"
   },
   "outputs": [],
   "source": []
  },
  {
   "cell_type": "code",
   "execution_count": 55,
   "metadata": {
    "Collapsed": "false"
   },
   "outputs": [],
   "source": [
    "df = pd.read_csv(os.path.join(dataFolder, \"paynet_data_deidentified_18.csv\"), nrows = 100)"
   ]
  },
  {
   "cell_type": "code",
   "execution_count": 56,
   "metadata": {
    "Collapsed": "false"
   },
   "outputs": [
    {
     "data": {
      "text/html": [
       "<div>\n",
       "<style scoped>\n",
       "    .dataframe tbody tr th:only-of-type {\n",
       "        vertical-align: middle;\n",
       "    }\n",
       "\n",
       "    .dataframe tbody tr th {\n",
       "        vertical-align: top;\n",
       "    }\n",
       "\n",
       "    .dataframe thead th {\n",
       "        text-align: right;\n",
       "    }\n",
       "</style>\n",
       "<table border=\"1\" class=\"dataframe\">\n",
       "  <thead>\n",
       "    <tr style=\"text-align: right;\">\n",
       "      <th></th>\n",
       "      <th>RowID</th>\n",
       "      <th>KF_ID</th>\n",
       "      <th>CalendarYear</th>\n",
       "      <th>ISO3CountryCode</th>\n",
       "      <th>CountryName</th>\n",
       "      <th>RegionName</th>\n",
       "      <th>OwnershipTypeDesc</th>\n",
       "      <th>NumOfEmpDesc</th>\n",
       "      <th>IndustryName</th>\n",
       "      <th>IndustrySectorName</th>\n",
       "      <th>IndustrySegmentName</th>\n",
       "      <th>JobFamilyDesc</th>\n",
       "      <th>SubfamilyDesc</th>\n",
       "      <th>JobName</th>\n",
       "      <th>ReferenceLevelNum</th>\n",
       "      <th>IncumbentPointCount</th>\n",
       "      <th>Base Salary</th>\n",
       "      <th>Benefit Values</th>\n",
       "      <th>Fixed Annual Remuneration</th>\n",
       "      <th>Hay Points</th>\n",
       "      <th>Long Term Incentive Values</th>\n",
       "      <th>Short Term Variable Payments</th>\n",
       "      <th>Target Incentive Payment (%)</th>\n",
       "      <th>Total Annual Remuneration</th>\n",
       "      <th>Total Cash</th>\n",
       "      <th>Total Cash at Target</th>\n",
       "      <th>Total Direct Compensation</th>\n",
       "      <th>Total Remuneration</th>\n",
       "      <th>Total Remuneration Plus</th>\n",
       "      <th>Total Earnings</th>\n",
       "    </tr>\n",
       "  </thead>\n",
       "  <tbody>\n",
       "    <tr>\n",
       "      <td>0</td>\n",
       "      <td>16633728</td>\n",
       "      <td>2</td>\n",
       "      <td>2017</td>\n",
       "      <td>USA</td>\n",
       "      <td>United States of America</td>\n",
       "      <td>Southern California (West)</td>\n",
       "      <td>Domestically Owned</td>\n",
       "      <td>5001 - 10000 Employees</td>\n",
       "      <td>Retail (Services)</td>\n",
       "      <td>NaN</td>\n",
       "      <td>NaN</td>\n",
       "      <td>Retail Operations</td>\n",
       "      <td>Store Management</td>\n",
       "      <td>Store Manager III</td>\n",
       "      <td>15</td>\n",
       "      <td>342</td>\n",
       "      <td>82202</td>\n",
       "      <td>NaN</td>\n",
       "      <td>NaN</td>\n",
       "      <td>342</td>\n",
       "      <td>NaN</td>\n",
       "      <td>0.0</td>\n",
       "      <td>30.0</td>\n",
       "      <td>NaN</td>\n",
       "      <td>82202</td>\n",
       "      <td>106862.0</td>\n",
       "      <td>82202</td>\n",
       "      <td>NaN</td>\n",
       "      <td>NaN</td>\n",
       "      <td>82202</td>\n",
       "    </tr>\n",
       "    <tr>\n",
       "      <td>1</td>\n",
       "      <td>16633729</td>\n",
       "      <td>2</td>\n",
       "      <td>2017</td>\n",
       "      <td>USA</td>\n",
       "      <td>United States of America</td>\n",
       "      <td>Colorado (West)</td>\n",
       "      <td>Domestically Owned</td>\n",
       "      <td>5001 - 10000 Employees</td>\n",
       "      <td>Retail (Services)</td>\n",
       "      <td>NaN</td>\n",
       "      <td>NaN</td>\n",
       "      <td>Retail Operations</td>\n",
       "      <td>Store Management</td>\n",
       "      <td>Store Manager II</td>\n",
       "      <td>14</td>\n",
       "      <td>291</td>\n",
       "      <td>77334</td>\n",
       "      <td>NaN</td>\n",
       "      <td>NaN</td>\n",
       "      <td>291</td>\n",
       "      <td>NaN</td>\n",
       "      <td>11306.0</td>\n",
       "      <td>30.0</td>\n",
       "      <td>NaN</td>\n",
       "      <td>88640</td>\n",
       "      <td>100535.0</td>\n",
       "      <td>88640</td>\n",
       "      <td>NaN</td>\n",
       "      <td>NaN</td>\n",
       "      <td>88640</td>\n",
       "    </tr>\n",
       "    <tr>\n",
       "      <td>2</td>\n",
       "      <td>16633730</td>\n",
       "      <td>2</td>\n",
       "      <td>2017</td>\n",
       "      <td>USA</td>\n",
       "      <td>United States of America</td>\n",
       "      <td>Southern California (West)</td>\n",
       "      <td>Domestically Owned</td>\n",
       "      <td>5001 - 10000 Employees</td>\n",
       "      <td>Retail (Services)</td>\n",
       "      <td>NaN</td>\n",
       "      <td>NaN</td>\n",
       "      <td>Retail Operations</td>\n",
       "      <td>Store Management</td>\n",
       "      <td>Store Manager III</td>\n",
       "      <td>15</td>\n",
       "      <td>342</td>\n",
       "      <td>98301</td>\n",
       "      <td>NaN</td>\n",
       "      <td>NaN</td>\n",
       "      <td>342</td>\n",
       "      <td>NaN</td>\n",
       "      <td>13566.0</td>\n",
       "      <td>30.0</td>\n",
       "      <td>NaN</td>\n",
       "      <td>111867</td>\n",
       "      <td>127793.0</td>\n",
       "      <td>111867</td>\n",
       "      <td>NaN</td>\n",
       "      <td>NaN</td>\n",
       "      <td>111867</td>\n",
       "    </tr>\n",
       "    <tr>\n",
       "      <td>3</td>\n",
       "      <td>16633731</td>\n",
       "      <td>2</td>\n",
       "      <td>2017</td>\n",
       "      <td>USA</td>\n",
       "      <td>United States of America</td>\n",
       "      <td>Southern California (West)</td>\n",
       "      <td>Domestically Owned</td>\n",
       "      <td>5001 - 10000 Employees</td>\n",
       "      <td>Retail (Services)</td>\n",
       "      <td>NaN</td>\n",
       "      <td>NaN</td>\n",
       "      <td>Retail Operations</td>\n",
       "      <td>Store Management</td>\n",
       "      <td>Store Manager III</td>\n",
       "      <td>15</td>\n",
       "      <td>342</td>\n",
       "      <td>74734</td>\n",
       "      <td>NaN</td>\n",
       "      <td>NaN</td>\n",
       "      <td>342</td>\n",
       "      <td>NaN</td>\n",
       "      <td>0.0</td>\n",
       "      <td>30.0</td>\n",
       "      <td>NaN</td>\n",
       "      <td>74734</td>\n",
       "      <td>97154.0</td>\n",
       "      <td>74734</td>\n",
       "      <td>NaN</td>\n",
       "      <td>NaN</td>\n",
       "      <td>74734</td>\n",
       "    </tr>\n",
       "    <tr>\n",
       "      <td>4</td>\n",
       "      <td>16633732</td>\n",
       "      <td>2</td>\n",
       "      <td>2017</td>\n",
       "      <td>USA</td>\n",
       "      <td>United States of America</td>\n",
       "      <td>Southern California (West)</td>\n",
       "      <td>Domestically Owned</td>\n",
       "      <td>5001 - 10000 Employees</td>\n",
       "      <td>Retail (Services)</td>\n",
       "      <td>NaN</td>\n",
       "      <td>NaN</td>\n",
       "      <td>Retail Operations</td>\n",
       "      <td>Store Management</td>\n",
       "      <td>Store Manager III</td>\n",
       "      <td>15</td>\n",
       "      <td>342</td>\n",
       "      <td>91187</td>\n",
       "      <td>NaN</td>\n",
       "      <td>NaN</td>\n",
       "      <td>342</td>\n",
       "      <td>NaN</td>\n",
       "      <td>0.0</td>\n",
       "      <td>30.0</td>\n",
       "      <td>NaN</td>\n",
       "      <td>91187</td>\n",
       "      <td>118541.0</td>\n",
       "      <td>91187</td>\n",
       "      <td>NaN</td>\n",
       "      <td>NaN</td>\n",
       "      <td>91187</td>\n",
       "    </tr>\n",
       "  </tbody>\n",
       "</table>\n",
       "</div>"
      ],
      "text/plain": [
       "      RowID  KF_ID  CalendarYear ISO3CountryCode               CountryName  \\\n",
       "0  16633728      2          2017             USA  United States of America   \n",
       "1  16633729      2          2017             USA  United States of America   \n",
       "2  16633730      2          2017             USA  United States of America   \n",
       "3  16633731      2          2017             USA  United States of America   \n",
       "4  16633732      2          2017             USA  United States of America   \n",
       "\n",
       "                   RegionName   OwnershipTypeDesc            NumOfEmpDesc  \\\n",
       "0  Southern California (West)  Domestically Owned  5001 - 10000 Employees   \n",
       "1             Colorado (West)  Domestically Owned  5001 - 10000 Employees   \n",
       "2  Southern California (West)  Domestically Owned  5001 - 10000 Employees   \n",
       "3  Southern California (West)  Domestically Owned  5001 - 10000 Employees   \n",
       "4  Southern California (West)  Domestically Owned  5001 - 10000 Employees   \n",
       "\n",
       "        IndustryName  IndustrySectorName  IndustrySegmentName  \\\n",
       "0  Retail (Services)                 NaN                  NaN   \n",
       "1  Retail (Services)                 NaN                  NaN   \n",
       "2  Retail (Services)                 NaN                  NaN   \n",
       "3  Retail (Services)                 NaN                  NaN   \n",
       "4  Retail (Services)                 NaN                  NaN   \n",
       "\n",
       "       JobFamilyDesc     SubfamilyDesc            JobName  ReferenceLevelNum  \\\n",
       "0  Retail Operations  Store Management  Store Manager III                 15   \n",
       "1  Retail Operations  Store Management   Store Manager II                 14   \n",
       "2  Retail Operations  Store Management  Store Manager III                 15   \n",
       "3  Retail Operations  Store Management  Store Manager III                 15   \n",
       "4  Retail Operations  Store Management  Store Manager III                 15   \n",
       "\n",
       "   IncumbentPointCount  Base Salary  Benefit Values  \\\n",
       "0                  342        82202             NaN   \n",
       "1                  291        77334             NaN   \n",
       "2                  342        98301             NaN   \n",
       "3                  342        74734             NaN   \n",
       "4                  342        91187             NaN   \n",
       "\n",
       "   Fixed Annual Remuneration  Hay Points  Long Term Incentive Values  \\\n",
       "0                        NaN         342                         NaN   \n",
       "1                        NaN         291                         NaN   \n",
       "2                        NaN         342                         NaN   \n",
       "3                        NaN         342                         NaN   \n",
       "4                        NaN         342                         NaN   \n",
       "\n",
       "   Short Term Variable Payments  Target Incentive Payment (%)  \\\n",
       "0                           0.0                          30.0   \n",
       "1                       11306.0                          30.0   \n",
       "2                       13566.0                          30.0   \n",
       "3                           0.0                          30.0   \n",
       "4                           0.0                          30.0   \n",
       "\n",
       "   Total Annual Remuneration  Total Cash  Total Cash at Target  \\\n",
       "0                        NaN       82202              106862.0   \n",
       "1                        NaN       88640              100535.0   \n",
       "2                        NaN      111867              127793.0   \n",
       "3                        NaN       74734               97154.0   \n",
       "4                        NaN       91187              118541.0   \n",
       "\n",
       "   Total Direct Compensation  Total Remuneration  Total Remuneration Plus  \\\n",
       "0                      82202                 NaN                      NaN   \n",
       "1                      88640                 NaN                      NaN   \n",
       "2                     111867                 NaN                      NaN   \n",
       "3                      74734                 NaN                      NaN   \n",
       "4                      91187                 NaN                      NaN   \n",
       "\n",
       "   Total Earnings  \n",
       "0           82202  \n",
       "1           88640  \n",
       "2          111867  \n",
       "3           74734  \n",
       "4           91187  "
      ]
     },
     "execution_count": 56,
     "metadata": {},
     "output_type": "execute_result"
    }
   ],
   "source": [
    "df.head()"
   ]
  },
  {
   "cell_type": "code",
   "execution_count": 57,
   "metadata": {
    "Collapsed": "false"
   },
   "outputs": [],
   "source": [
    "df = pd.read_csv(os.path.join(dataFolder, \"paynet_data_deidentified_19.csv\"), nrows = 100)"
   ]
  },
  {
   "cell_type": "code",
   "execution_count": 58,
   "metadata": {
    "Collapsed": "false"
   },
   "outputs": [
    {
     "data": {
      "text/html": [
       "<div>\n",
       "<style scoped>\n",
       "    .dataframe tbody tr th:only-of-type {\n",
       "        vertical-align: middle;\n",
       "    }\n",
       "\n",
       "    .dataframe tbody tr th {\n",
       "        vertical-align: top;\n",
       "    }\n",
       "\n",
       "    .dataframe thead th {\n",
       "        text-align: right;\n",
       "    }\n",
       "</style>\n",
       "<table border=\"1\" class=\"dataframe\">\n",
       "  <thead>\n",
       "    <tr style=\"text-align: right;\">\n",
       "      <th></th>\n",
       "      <th>RowID</th>\n",
       "      <th>KF_ID</th>\n",
       "      <th>CalendarYear</th>\n",
       "      <th>ISO3CountryCode</th>\n",
       "      <th>CountryName</th>\n",
       "      <th>RegionName</th>\n",
       "      <th>OwnershipTypeDesc</th>\n",
       "      <th>NumOfEmpDesc</th>\n",
       "      <th>IndustryName</th>\n",
       "      <th>IndustrySectorName</th>\n",
       "      <th>IndustrySegmentName</th>\n",
       "      <th>JobFamilyDesc</th>\n",
       "      <th>SubfamilyDesc</th>\n",
       "      <th>JobName</th>\n",
       "      <th>ReferenceLevelNum</th>\n",
       "      <th>IncumbentPointCount</th>\n",
       "      <th>Base Salary</th>\n",
       "      <th>Benefit Values</th>\n",
       "      <th>Fixed Annual Remuneration</th>\n",
       "      <th>Hay Points</th>\n",
       "      <th>Long Term Incentive Values</th>\n",
       "      <th>Short Term Variable Payments</th>\n",
       "      <th>Target Incentive Payment (%)</th>\n",
       "      <th>Total Annual Remuneration</th>\n",
       "      <th>Total Cash</th>\n",
       "      <th>Total Cash at Target</th>\n",
       "      <th>Total Direct Compensation</th>\n",
       "      <th>Total Remuneration</th>\n",
       "      <th>Total Remuneration Plus</th>\n",
       "      <th>Total Earnings</th>\n",
       "    </tr>\n",
       "  </thead>\n",
       "  <tbody>\n",
       "    <tr>\n",
       "      <td>0</td>\n",
       "      <td>17633728</td>\n",
       "      <td>616</td>\n",
       "      <td>2017</td>\n",
       "      <td>USA</td>\n",
       "      <td>United States of America</td>\n",
       "      <td>Texas, Excl. Metros (South)</td>\n",
       "      <td>Domestically Owned</td>\n",
       "      <td>10001 - 25000 Employees</td>\n",
       "      <td>Fast Moving Consumer Goods (Industrial/Mfg.)</td>\n",
       "      <td>NaN</td>\n",
       "      <td>NaN</td>\n",
       "      <td>Logistics/Supply Chain</td>\n",
       "      <td>Warehousing/Material Management</td>\n",
       "      <td>Forklift Operator</td>\n",
       "      <td>7</td>\n",
       "      <td>91</td>\n",
       "      <td>30285</td>\n",
       "      <td>NaN</td>\n",
       "      <td>NaN</td>\n",
       "      <td>91</td>\n",
       "      <td>NaN</td>\n",
       "      <td>NaN</td>\n",
       "      <td>NaN</td>\n",
       "      <td>NaN</td>\n",
       "      <td>30285</td>\n",
       "      <td>NaN</td>\n",
       "      <td>NaN</td>\n",
       "      <td>NaN</td>\n",
       "      <td>NaN</td>\n",
       "      <td>30285</td>\n",
       "    </tr>\n",
       "    <tr>\n",
       "      <td>1</td>\n",
       "      <td>17633729</td>\n",
       "      <td>616</td>\n",
       "      <td>2017</td>\n",
       "      <td>USA</td>\n",
       "      <td>United States of America</td>\n",
       "      <td>Texas, Excl. Metros (South)</td>\n",
       "      <td>Domestically Owned</td>\n",
       "      <td>10001 - 25000 Employees</td>\n",
       "      <td>Fast Moving Consumer Goods (Industrial/Mfg.)</td>\n",
       "      <td>NaN</td>\n",
       "      <td>NaN</td>\n",
       "      <td>Logistics/Supply Chain</td>\n",
       "      <td>Distribution/Transportation</td>\n",
       "      <td>Truck Driver</td>\n",
       "      <td>9</td>\n",
       "      <td>124</td>\n",
       "      <td>40061</td>\n",
       "      <td>NaN</td>\n",
       "      <td>NaN</td>\n",
       "      <td>124</td>\n",
       "      <td>NaN</td>\n",
       "      <td>NaN</td>\n",
       "      <td>NaN</td>\n",
       "      <td>NaN</td>\n",
       "      <td>40061</td>\n",
       "      <td>NaN</td>\n",
       "      <td>NaN</td>\n",
       "      <td>NaN</td>\n",
       "      <td>NaN</td>\n",
       "      <td>40061</td>\n",
       "    </tr>\n",
       "    <tr>\n",
       "      <td>2</td>\n",
       "      <td>17633730</td>\n",
       "      <td>616</td>\n",
       "      <td>2017</td>\n",
       "      <td>USA</td>\n",
       "      <td>United States of America</td>\n",
       "      <td>Texas, Excl. Metros (South)</td>\n",
       "      <td>Domestically Owned</td>\n",
       "      <td>10001 - 25000 Employees</td>\n",
       "      <td>Fast Moving Consumer Goods (Industrial/Mfg.)</td>\n",
       "      <td>NaN</td>\n",
       "      <td>NaN</td>\n",
       "      <td>Logistics/Supply Chain</td>\n",
       "      <td>Distribution/Transportation</td>\n",
       "      <td>Truck Driver</td>\n",
       "      <td>9</td>\n",
       "      <td>124</td>\n",
       "      <td>39000</td>\n",
       "      <td>NaN</td>\n",
       "      <td>NaN</td>\n",
       "      <td>124</td>\n",
       "      <td>NaN</td>\n",
       "      <td>NaN</td>\n",
       "      <td>NaN</td>\n",
       "      <td>NaN</td>\n",
       "      <td>39000</td>\n",
       "      <td>NaN</td>\n",
       "      <td>NaN</td>\n",
       "      <td>NaN</td>\n",
       "      <td>NaN</td>\n",
       "      <td>39000</td>\n",
       "    </tr>\n",
       "    <tr>\n",
       "      <td>3</td>\n",
       "      <td>17633731</td>\n",
       "      <td>616</td>\n",
       "      <td>2017</td>\n",
       "      <td>USA</td>\n",
       "      <td>United States of America</td>\n",
       "      <td>Undefined</td>\n",
       "      <td>Domestically Owned</td>\n",
       "      <td>10001 - 25000 Employees</td>\n",
       "      <td>Fast Moving Consumer Goods (Industrial/Mfg.)</td>\n",
       "      <td>NaN</td>\n",
       "      <td>NaN</td>\n",
       "      <td>Logistics/Supply Chain</td>\n",
       "      <td>Distribution/Transportation</td>\n",
       "      <td>Truck Driver</td>\n",
       "      <td>8</td>\n",
       "      <td>106</td>\n",
       "      <td>32448</td>\n",
       "      <td>NaN</td>\n",
       "      <td>NaN</td>\n",
       "      <td>106</td>\n",
       "      <td>NaN</td>\n",
       "      <td>NaN</td>\n",
       "      <td>NaN</td>\n",
       "      <td>NaN</td>\n",
       "      <td>32448</td>\n",
       "      <td>NaN</td>\n",
       "      <td>NaN</td>\n",
       "      <td>NaN</td>\n",
       "      <td>NaN</td>\n",
       "      <td>32448</td>\n",
       "    </tr>\n",
       "    <tr>\n",
       "      <td>4</td>\n",
       "      <td>17633732</td>\n",
       "      <td>616</td>\n",
       "      <td>2017</td>\n",
       "      <td>USA</td>\n",
       "      <td>United States of America</td>\n",
       "      <td>New York, Excl. Metro NY (Northeast)</td>\n",
       "      <td>Domestically Owned</td>\n",
       "      <td>10001 - 25000 Employees</td>\n",
       "      <td>Fast Moving Consumer Goods (Industrial/Mfg.)</td>\n",
       "      <td>NaN</td>\n",
       "      <td>NaN</td>\n",
       "      <td>Production</td>\n",
       "      <td>Production</td>\n",
       "      <td>Machine Operator II</td>\n",
       "      <td>8</td>\n",
       "      <td>106</td>\n",
       "      <td>43742</td>\n",
       "      <td>NaN</td>\n",
       "      <td>NaN</td>\n",
       "      <td>106</td>\n",
       "      <td>NaN</td>\n",
       "      <td>NaN</td>\n",
       "      <td>NaN</td>\n",
       "      <td>NaN</td>\n",
       "      <td>43742</td>\n",
       "      <td>NaN</td>\n",
       "      <td>NaN</td>\n",
       "      <td>NaN</td>\n",
       "      <td>NaN</td>\n",
       "      <td>43742</td>\n",
       "    </tr>\n",
       "  </tbody>\n",
       "</table>\n",
       "</div>"
      ],
      "text/plain": [
       "      RowID  KF_ID  CalendarYear ISO3CountryCode               CountryName  \\\n",
       "0  17633728    616          2017             USA  United States of America   \n",
       "1  17633729    616          2017             USA  United States of America   \n",
       "2  17633730    616          2017             USA  United States of America   \n",
       "3  17633731    616          2017             USA  United States of America   \n",
       "4  17633732    616          2017             USA  United States of America   \n",
       "\n",
       "                             RegionName   OwnershipTypeDesc  \\\n",
       "0           Texas, Excl. Metros (South)  Domestically Owned   \n",
       "1           Texas, Excl. Metros (South)  Domestically Owned   \n",
       "2           Texas, Excl. Metros (South)  Domestically Owned   \n",
       "3                             Undefined  Domestically Owned   \n",
       "4  New York, Excl. Metro NY (Northeast)  Domestically Owned   \n",
       "\n",
       "              NumOfEmpDesc                                  IndustryName  \\\n",
       "0  10001 - 25000 Employees  Fast Moving Consumer Goods (Industrial/Mfg.)   \n",
       "1  10001 - 25000 Employees  Fast Moving Consumer Goods (Industrial/Mfg.)   \n",
       "2  10001 - 25000 Employees  Fast Moving Consumer Goods (Industrial/Mfg.)   \n",
       "3  10001 - 25000 Employees  Fast Moving Consumer Goods (Industrial/Mfg.)   \n",
       "4  10001 - 25000 Employees  Fast Moving Consumer Goods (Industrial/Mfg.)   \n",
       "\n",
       "   IndustrySectorName  IndustrySegmentName           JobFamilyDesc  \\\n",
       "0                 NaN                  NaN  Logistics/Supply Chain   \n",
       "1                 NaN                  NaN  Logistics/Supply Chain   \n",
       "2                 NaN                  NaN  Logistics/Supply Chain   \n",
       "3                 NaN                  NaN  Logistics/Supply Chain   \n",
       "4                 NaN                  NaN              Production   \n",
       "\n",
       "                     SubfamilyDesc              JobName  ReferenceLevelNum  \\\n",
       "0  Warehousing/Material Management    Forklift Operator                  7   \n",
       "1      Distribution/Transportation         Truck Driver                  9   \n",
       "2      Distribution/Transportation         Truck Driver                  9   \n",
       "3      Distribution/Transportation         Truck Driver                  8   \n",
       "4                       Production  Machine Operator II                  8   \n",
       "\n",
       "   IncumbentPointCount  Base Salary  Benefit Values  \\\n",
       "0                   91        30285             NaN   \n",
       "1                  124        40061             NaN   \n",
       "2                  124        39000             NaN   \n",
       "3                  106        32448             NaN   \n",
       "4                  106        43742             NaN   \n",
       "\n",
       "   Fixed Annual Remuneration  Hay Points  Long Term Incentive Values  \\\n",
       "0                        NaN          91                         NaN   \n",
       "1                        NaN         124                         NaN   \n",
       "2                        NaN         124                         NaN   \n",
       "3                        NaN         106                         NaN   \n",
       "4                        NaN         106                         NaN   \n",
       "\n",
       "   Short Term Variable Payments  Target Incentive Payment (%)  \\\n",
       "0                           NaN                           NaN   \n",
       "1                           NaN                           NaN   \n",
       "2                           NaN                           NaN   \n",
       "3                           NaN                           NaN   \n",
       "4                           NaN                           NaN   \n",
       "\n",
       "   Total Annual Remuneration  Total Cash  Total Cash at Target  \\\n",
       "0                        NaN       30285                   NaN   \n",
       "1                        NaN       40061                   NaN   \n",
       "2                        NaN       39000                   NaN   \n",
       "3                        NaN       32448                   NaN   \n",
       "4                        NaN       43742                   NaN   \n",
       "\n",
       "   Total Direct Compensation  Total Remuneration  Total Remuneration Plus  \\\n",
       "0                        NaN                 NaN                      NaN   \n",
       "1                        NaN                 NaN                      NaN   \n",
       "2                        NaN                 NaN                      NaN   \n",
       "3                        NaN                 NaN                      NaN   \n",
       "4                        NaN                 NaN                      NaN   \n",
       "\n",
       "   Total Earnings  \n",
       "0           30285  \n",
       "1           40061  \n",
       "2           39000  \n",
       "3           32448  \n",
       "4           43742  "
      ]
     },
     "execution_count": 58,
     "metadata": {},
     "output_type": "execute_result"
    }
   ],
   "source": [
    "df.head()"
   ]
  },
  {
   "cell_type": "code",
   "execution_count": null,
   "metadata": {
    "Collapsed": "false"
   },
   "outputs": [],
   "source": []
  }
 ],
 "metadata": {
  "kernelspec": {
   "display_name": "Python 3",
   "language": "python",
   "name": "python3"
  },
  "language_info": {
   "codemirror_mode": {
    "name": "ipython",
    "version": 3
   },
   "file_extension": ".py",
   "mimetype": "text/x-python",
   "name": "python",
   "nbconvert_exporter": "python",
   "pygments_lexer": "ipython3",
   "version": "3.7.4"
  }
 },
 "nbformat": 4,
 "nbformat_minor": 4
}
